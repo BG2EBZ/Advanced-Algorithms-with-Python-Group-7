{
 "cells": [
  {
   "cell_type": "code",
   "execution_count": null,
   "id": "084d9e80-4a9b-4bb1-afe2-c0d6b67ccefe",
   "metadata": {},
   "outputs": [],
   "source": [
    "# project 2, Group 7"
   ]
  },
  {
   "cell_type": "code",
   "execution_count": null,
   "id": "00987444-9bad-4d51-8df9-515528579d2a",
   "metadata": {},
   "outputs": [],
   "source": [
    "# task 1"
   ]
  },
  {
   "cell_type": "code",
   "execution_count": 3,
   "id": "59164ae4-321c-4f88-9e1b-4f18feed9025",
   "metadata": {},
   "outputs": [],
   "source": [
    "class OptimizationProblem:\n",
    "    def __init__(self, f, grad=None):\n",
    "        self.f = f\n",
    "        self.grad = grad\n",
    "\n",
    "    def evaluate(self, x):\n",
    "        return float(self.f(x))\n",
    "\n",
    "    def gradient(self, x):\n",
    "        if self.grad is None:\n",
    "            raise NotImplementedError(\"No gradient provided.\")\n",
    "        return np.array(self.grad(x), dtype=float)"
   ]
  },
  {
   "cell_type": "code",
   "execution_count": null,
   "id": "70bb1af8-dd46-4e38-9140-015f60daa274",
   "metadata": {},
   "outputs": [],
   "source": [
    "# task 2: general opitimization class"
   ]
  },
  {
   "cell_type": "code",
   "execution_count": 24,
   "id": "d47c5e60-50d3-4383-b6b5-a02500281177",
   "metadata": {},
   "outputs": [],
   "source": [
    "class OptimizationMethod:\n",
    "    def __init__(self, problem, tol=1e-6, max_iter=100):\n",
    "        self.problem = problem\n",
    "        self.tol = tol\n",
    "        self.max_iter = max_iter\n",
    "        self.history = []\n",
    "\n",
    "    def compute_direction(self, x):\n",
    "        # need implemention\n",
    "        raise NotImplementedError\n",
    "\n",
    "    def line_search(self, x, s, g):\n",
    "        alpha = 1.0  # will be changed in the subsequet tasks \n",
    "        return alpha\n",
    "\n",
    "    def solve(self, x0):\n",
    "        x = np.array(x0, dtype=float)\n",
    "        for _ in range(self.max_iter):\n",
    "            g = self.problem.gradient(x)\n",
    "            if np.linalg.norm(g) < self.tol:\n",
    "                break\n",
    "            s = self.compute_direction(x, g)\n",
    "            alpha = self.line_search(x, s, g)\n",
    "            x = x + alpha * s\n",
    "        return x\n"
   ]
  },
  {
   "cell_type": "markdown",
   "id": "3ac4ca4e-0a5d-4726-af3d-31d341fdc497",
   "metadata": {},
   "source": [
    "使用newton method来测试[task1，task2]，可以参考"
   ]
  },
  {
   "cell_type": "code",
   "execution_count": 21,
   "id": "aad16756-34eb-4f4e-874d-4e728d72fe50",
   "metadata": {},
   "outputs": [
    {
     "name": "stdout",
     "output_type": "stream",
     "text": [
      "n=4, x*= [0.112702 0.3709   0.6291   0.887298]  f(x*)= 8.49335105474771e-32\n",
      "n=8, x*= [0.051472 0.199429 0.308723 0.427707 0.572293 0.691277 0.800571 0.948528]  f(x*)= 1.2303417374350283e-18\n",
      "n=11, x*= [-0.010965  0.042985  0.042985  0.042985  0.042985  0.042985  0.042985\n",
      "  0.042985  0.042985  0.042985 -0.010965]  f(x*)= 2.7605204466878144\n"
     ]
    }
   ],
   "source": [
    "import numpy as np\n",
    "from chebyquad_problem import chebyquad, gradchebyquad\n",
    "\n",
    "#newton method\n",
    "def fd_hessian(f, x, eps=1e-6):\n",
    "    n = x.size\n",
    "    H = np.zeros((n, n))\n",
    "    fx = f(x)\n",
    "    for i in range(n):\n",
    "        ei = np.zeros(n); ei[i] = 1.0\n",
    "        for j in range(i, n):\n",
    "            ej = np.zeros(n); ej[j] = 1.0\n",
    "            if i == j:\n",
    "                H[i, i] = (f(x+eps*ei) - 2*fx + f(x-eps*ei)) / (eps**2)\n",
    "            else:\n",
    "                fpp = f(x + eps*ei + eps*ej)\n",
    "                fpm = f(x + eps*ei - eps*ej)\n",
    "                fmp = f(x - eps*ei + eps*ej)\n",
    "                fmm = f(x - eps*ei - eps*ej)\n",
    "                H[i, j] = H[j, i] = (fpp - fpm - fmp + fmm) / (4*eps**2)\n",
    "    # 对称化（Task3 要求 G := 0.5*(G + G^T)）\n",
    "    return 0.5*(H + H.T)\n",
    "\n",
    "class NewtonMethod(OptimizationMethod):\n",
    "    def compute_direction(self, x, g):\n",
    "        H = fd_hessian(self.problem.evaluate, x)\n",
    "        # 解 H s = -g\n",
    "        return -np.linalg.solve(H, g)\n",
    "\n",
    "    # 可选：以后你可以在 Task4 替换为 exact line search\n",
    "    # def line_search(self, x, s, g): ...\n",
    "for n in (4, 8, 11):\n",
    "    x0 = np.linspace(0, 1, n)  # 题目里常用的初始点\n",
    "    prob = OptimizationProblem(chebyquad, gradchebyquad)\n",
    "    x_star = NewtonMethod(prob, tol=1e-8, max_iter=200).solve(x0)\n",
    "    print(f\"n={n}, x*=\", np.round(x_star, 6), \" f(x*)=\", prob.evaluate(x_star))"
   ]
  },
  {
   "cell_type": "code",
   "execution_count": null,
   "id": "ff71f5ea-a578-4473-9136-399859aa9c34",
   "metadata": {},
   "outputs": [],
   "source": []
  }
 ],
 "metadata": {
  "kernelspec": {
   "display_name": "Python 3 (ipykernel)",
   "language": "python",
   "name": "python3"
  },
  "language_info": {
   "codemirror_mode": {
    "name": "ipython",
    "version": 3
   },
   "file_extension": ".py",
   "mimetype": "text/x-python",
   "name": "python",
   "nbconvert_exporter": "python",
   "pygments_lexer": "ipython3",
   "version": "3.12.4"
  }
 },
 "nbformat": 4,
 "nbformat_minor": 5
}
