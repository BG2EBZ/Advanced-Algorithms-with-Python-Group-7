{
 "cells": [
  {
   "cell_type": "code",
   "execution_count": null,
   "id": "084d9e80-4a9b-4bb1-afe2-c0d6b67ccefe",
   "metadata": {},
   "outputs": [],
   "source": [
    "# project 2, Group 7"
   ]
  },
  {
   "cell_type": "code",
   "execution_count": null,
   "id": "00987444-9bad-4d51-8df9-515528579d2a",
   "metadata": {},
   "outputs": [],
   "source": [
    "# task 1"
   ]
  },
  {
   "cell_type": "code",
   "execution_count": 3,
   "id": "59164ae4-321c-4f88-9e1b-4f18feed9025",
   "metadata": {},
   "outputs": [],
   "source": [
    "class OptimizationProblem:\n",
    "    def __init__(self, f, grad=None):\n",
    "        self.f = f\n",
    "        self.grad = grad\n",
    "\n",
    "    def evaluate(self, x):\n",
    "        return float(self.f(x))\n",
    "\n",
    "    def gradient(self, x):\n",
    "        if self.grad is None:\n",
    "            raise NotImplementedError(\"No gradient provided.\")\n",
    "        return np.array(self.grad(x), dtype=float)"
   ]
  },
  {
   "cell_type": "code",
   "execution_count": null,
   "id": "70bb1af8-dd46-4e38-9140-015f60daa274",
   "metadata": {},
   "outputs": [],
   "source": [
    "# task 2: general opitimization class"
   ]
  },
  {
   "cell_type": "code",
   "execution_count": 5,
   "id": "d47c5e60-50d3-4383-b6b5-a02500281177",
   "metadata": {},
   "outputs": [],
   "source": [
    "class OptimizationMethod:\n",
    "    def __init__(self, problem, tol=1e-6, max_iter=100):\n",
    "        self.problem = problem\n",
    "        self.tol = tol\n",
    "        self.max_iter = max_iter\n",
    "        self.history = []\n",
    "\n",
    "    def compute_direction(self, x):\n",
    "        \n",
    "        raise NotImplementedError\n",
    "\n",
    "    def line_search(self, x, s):\n",
    "        alpha = 1.0  # will be changed in the subsequet tasks \n",
    "        return alpha\n",
    "\n",
    "    def solve(self, x0):\n",
    "        x = np.array(x0, dtype=float)\n",
    "        for _ in range(self.max_iter):\n",
    "            g = self.problem.gradient(x)\n",
    "            if np.linalg.norm(g) < self.tol:\n",
    "                break\n",
    "            s = self.compute_direction(x, g)\n",
    "            alpha = self.line_search(x, s, g)\n",
    "            x = x + alpha * s\n",
    "        return x\n"
   ]
  }
 ],
 "metadata": {
  "kernelspec": {
   "display_name": "Python 3 (ipykernel)",
   "language": "python",
   "name": "python3"
  },
  "language_info": {
   "codemirror_mode": {
    "name": "ipython",
    "version": 3
   },
   "file_extension": ".py",
   "mimetype": "text/x-python",
   "name": "python",
   "nbconvert_exporter": "python",
   "pygments_lexer": "ipython3",
   "version": "3.12.4"
  }
 },
 "nbformat": 4,
 "nbformat_minor": 5
}
